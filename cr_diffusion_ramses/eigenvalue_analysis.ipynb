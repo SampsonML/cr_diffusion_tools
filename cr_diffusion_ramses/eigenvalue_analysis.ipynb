{
 "cells": [
  {
   "cell_type": "code",
   "execution_count": 77,
   "id": "22120fb3-cf85-468b-9c14-71c8ca5d9829",
   "metadata": {
    "tags": []
   },
   "outputs": [],
   "source": [
    "# imports\n",
    "import numpy as np\n",
    "import matplotlib.pyplot as plt\n",
    "import yt\n",
    "import cmasher as cmr\n",
    "import matplotlib as mpl\n",
    "from scipy.interpolate import griddata\n",
    "from mpl_toolkits.axes_grid1 import AxesGrid, ImageGrid\n",
    "from numpy import linspace\n",
    "from cr_covariance2 import cr_spatial_covariance\n",
    "\n",
    "# plot params\n",
    "plt.rcParams[\"xtick.top\"] = True \n",
    "plt.rcParams[\"ytick.right\"] = True\n",
    "plt.rcParams[\"xtick.direction\"] = 'in' \n",
    "plt.rcParams[\"ytick.direction\"] = 'in' \n",
    "plt.rcParams[\"xtick.minor.visible\"] = True \n",
    "plt.rcParams[\"ytick.minor.visible\"] = True \n",
    "plt.rcParams[\"xtick.major.size\"] = 7\n",
    "plt.rcParams[\"xtick.minor.size\"] = 4.5\n",
    "plt.rcParams[\"ytick.major.size\"] = 7\n",
    "plt.rcParams[\"ytick.minor.size\"] = 4.5\n",
    "plt.rcParams[\"xtick.major.width\"] = 2\n",
    "plt.rcParams[\"xtick.minor.width\"] = 1.5\n",
    "plt.rcParams[\"ytick.major.width\"] = 2\n",
    "plt.rcParams[\"ytick.minor.width\"] = 1.5\n",
    "plt.rcParams['axes.linewidth'] = 2\n",
    "plt.rcParams[\"font.family\"] = \"serif\"\n",
    "plt.rcParams[\"mathtext.fontset\"] = \"dejavuserif\"\n",
    "#plt.rcParams.update({\"text.usetex\": True})\n",
    "#plt.style.use('dark_background')"
   ]
  },
  {
   "cell_type": "code",
   "execution_count": 78,
   "id": "d7ca1b6c-9ceb-4787-8d71-891bf2126beb",
   "metadata": {
    "tags": []
   },
   "outputs": [],
   "source": [
    "# turn off silly warnings\n",
    "yt.set_log_level(\"error\")"
   ]
  },
  {
   "cell_type": "code",
   "execution_count": 79,
   "id": "7d108540-0bbb-4dcf-b593-0e0baa82e877",
   "metadata": {
    "tags": []
   },
   "outputs": [],
   "source": [
    "#path = \"/scratch/gpfs/ms0821/sampson_ramses/production_runs/res256/M3MA2D22/\"\n",
    "#trial_name = \"productionM3MA2D22\"\n",
    "#savename = trial_name + \".pdf\"\n",
    "\n",
    "path = \"/scratch/gpfs/ms0821/sampson_ramses/production_runs/multi256/M3MA05D23/\"\n",
    "trial_name = \"production_multi_M3MA05D23\"\n",
    "savename = trial_name + \".pdf\"\n",
    "\n",
    "#path = \"/scratch/gpfs/ms0821/sampson_ramses/production_runs/res128/multiGRID/\"\n",
    "#trial_name = \"production_test_M3MA1D23\"\n",
    "#savename = trial_name + \".pdf\""
   ]
  },
  {
   "cell_type": "code",
   "execution_count": null,
   "id": "2a4cd17f-82ec-4fdf-a0f9-783e908eaad7",
   "metadata": {
    "tags": []
   },
   "outputs": [
    {
     "name": "stdout",
     "output_type": "stream",
     "text": [
      "at file 61 of group 1\n",
      "at file 62 of group 1\n",
      "at file 63 of group 1\n",
      "at file 61 of group 2\n",
      "at file 62 of group 2\n",
      "at file 63 of group 2\n",
      "at file 61 of group 3\n",
      "at file 62 of group 3\n",
      "at file 63 of group 3\n",
      "at file 61 of group 4\n",
      "at file 62 of group 4\n"
     ]
    }
   ],
   "source": [
    "'''\n",
    "Note that this routine extracts the eigenvalues per snapshot for the simulation. \n",
    "It runs over each cr group storing the eigenvalues in a single larger list which \n",
    "can then be averaged over if desired. The files are read, and saved for significantly\n",
    "faster reading after the first run. First run of a new dataset will be very slow.\n",
    "'''\n",
    "\n",
    "meta_list = []\n",
    "eig_i = []\n",
    "eig_j = []\n",
    "eig_k = []\n",
    "time_vec = []\n",
    "tol=2e-15\n",
    "num_snapshots = 3\n",
    "inj_idx = 61\n",
    "groups = 9\n",
    "count = 0\n",
    "\n",
    "for group_idx in range(1,groups+1):\n",
    "    \n",
    "    for idx in range(inj_idx, inj_idx+num_snapshots):\n",
    "        print(f'at file {idx} of group {group_idx}')\n",
    "        I, eigs, evec, t = cr_spatial_covariance(path=path, num=idx ,trial_name=trial_name, group=group_idx, normalize=True)\n",
    "        e_i, e_j, e_k = eigs\n",
    "        eig_i.append(e_i)\n",
    "        eig_j.append(e_j)\n",
    "        eig_k.append(e_k)\n",
    "        time_vec.append(t)\n",
    "    # add to meta list\n",
    "    if count == 0:\n",
    "        times = time_vec\n",
    "        count += 1\n",
    "    meta_list.append(eig_i)\n",
    "    meta_list.append(eig_j)\n",
    "    meta_list.append(eig_k)\n",
    "\n",
    "    \n",
    "    # reset storage lists \n",
    "    eig_i = []\n",
    "    eig_j = []\n",
    "    eig_k = []\n",
    "    time_vec = []\n",
    "times = np.array(times)"
   ]
  },
  {
   "cell_type": "code",
   "execution_count": null,
   "id": "5bbad386-8d40-4a73-9542-0b8322b93229",
   "metadata": {
    "tags": []
   },
   "outputs": [],
   "source": [
    "'''\n",
    "Here we perform the group averaging over all of the different CR subpopulations\n",
    "'''\n",
    "\n",
    "for group in range(groups):\n",
    "    if group == 0:\n",
    "        ave_eig_i = np.array([meta_list[0]])\n",
    "        ave_eig_j = np.array([meta_list[1]])\n",
    "        ave_eig_k = np.array([meta_list[2]])\n",
    "    else:\n",
    "        ave_eig_i += np.array([meta_list[group*3]])\n",
    "        ave_eig_j += np.array([meta_list[group*3+1]])\n",
    "        ave_eig_k += np.array([meta_list[group*3+2]])\n",
    "        \n",
    "ave_eig_i = ave_eig_i / groups\n",
    "ave_eig_j = ave_eig_j / groups \n",
    "ave_eig_k = ave_eig_k / groups \n",
    "ave_eig_i = ave_eig_i[0]\n",
    "ave_eig_j = ave_eig_j[0]\n",
    "ave_eig_k = ave_eig_k[0]\n",
    "\n",
    "print(times.shape)\n",
    "print(ave_eig_i.shape)"
   ]
  },
  {
   "cell_type": "code",
   "execution_count": null,
   "id": "4be40984-a6dc-48f6-8520-02af0aa78823",
   "metadata": {
    "tags": []
   },
   "outputs": [],
   "source": [
    "'''\n",
    "Plotting the eigenvalues as a function of time for all i,j,k components\n",
    "'''\n",
    "\n",
    "fig = plt.figure(figsize=(11,3), dpi=140)\n",
    "plt.subplots_adjust(wspace=0.3,hspace=0.4)\n",
    "nasa = \"#ff4f00\"\n",
    "\n",
    "# plot the beast\n",
    "p1 = plt.subplot(1,3,1)\n",
    "plt.plot(times, ave_eig_i, color=nasa,label=r\"sim with $D_{cr,\\perp}=1 \\times 10^{23}$\")\n",
    "plt.ylabel(r'$\\lambda_{\\parallel}$')\n",
    "plt.xlabel('t (seconds)')\n",
    "\n",
    "plt.subplot(1,3,2, sharey=p1)\n",
    "plt.plot(times, ave_eig_j, color=nasa,label=r\"sim with $D_{cr,\\perp}=1 \\times 10^{23}$\")\n",
    "plt.ylabel(r'$\\lambda_{\\perp,1}$')\n",
    "plt.xlabel('t (seconds)')\n",
    "\n",
    "plt.subplot(1,3,3, sharey=p1)\n",
    "plt.plot(times, ave_eig_k, color=nasa)\n",
    "plt.ylabel(r'$\\lambda_{\\perp,2}$')\n",
    "plt.xlabel('t (seconds)')\n",
    "\n",
    "plt.savefig(savename, bbox_inches='tight', pad_inches=0.1, dpi=200)"
   ]
  },
  {
   "cell_type": "code",
   "execution_count": null,
   "id": "188ef709-24d0-46ac-94fb-fa927956bafb",
   "metadata": {
    "tags": []
   },
   "outputs": [],
   "source": [
    "# naive gradient measurements -- assuming Gaussian diffusion\n",
    "gradient = (ave_eig_i[-1] - ave_eig_i[0]) / (times[-1] - times[0]) / 2 # factor to go from MSD to diffusion coef\n",
    "gradient2 = (ave_eig_j[-1] - ave_eig_j[0]) / (times[-1] - times[0]) / 2\n",
    "gradient3 = (ave_eig_k[-1] - ave_eig_k[0]) / (times[-1] - times[0]) / 2\n",
    "\n",
    "print(f\"measured diff coef: {gradient}\")\n",
    "print(f\"measured diff coef 2: {gradient2}\")\n",
    "print(f\"measured diff coef 3: {gradient3}\")"
   ]
  },
  {
   "cell_type": "code",
   "execution_count": null,
   "id": "9bc0094a-3d0a-4e04-a1ff-88dc4b98d186",
   "metadata": {},
   "outputs": [],
   "source": [
    "'''\n",
    "Plotting the derrivitive of the eigenvalues (the diffusion coefficient) as a function of time\n",
    "'''\n",
    "\n",
    "# make a derrivitive plot\n",
    "nasa = \"#ff4f00\"\n",
    "\n",
    "de1 = np.diff(ave_eig_i) / np.diff(times)\n",
    "de2 = np.diff(ave_eig_j) / np.diff(times)\n",
    "de3 = np.diff(ave_eig_k) / np.diff(times)\n",
    "\n",
    "fig = plt.figure(figsize=(11,3), dpi=140)\n",
    "plt.subplots_adjust(wspace=0.3,hspace=0.4)\n",
    "\n",
    "# plot the beast\n",
    "p1 = plt.subplot(1,3,1)\n",
    "plt.plot(times[0:-1], de1, color=nasa,label=r\"sim with $D_{cr,\\perp}=1 \\times 10^{23}$\")\n",
    "plt.ylabel(r'$D_{cr, \\parallel}$')\n",
    "plt.xlabel('t (seconds)')\n",
    "\n",
    "plt.subplot(1,3,2, sharey=p1)\n",
    "plt.plot(times[0:-1], de2, color=nasa,label=r\"sim with $D_{cr,\\perp}=1 \\times 10^{23}$\")\n",
    "plt.ylabel(r'$D_{cr, \\perp}$')\n",
    "plt.xlabel('t (seconds)')\n",
    "\n",
    "plt.subplot(1,3,3, sharey=p1)\n",
    "plt.plot(times[0:-1], de3, color=nasa)\n",
    "plt.ylabel(r'$D_{cr, \\perp}$')\n",
    "plt.xlabel('t (seconds)')\n",
    "\n",
    "savename = trial_name + \"_diffusion_coef.pdf\"\n",
    "plt.savefig(savename, bbox_inches='tight', pad_inches=0.1, dpi=200)"
   ]
  },
  {
   "cell_type": "code",
   "execution_count": null,
   "id": "09c7dd9d-7696-49cf-a228-c77ff7e3a560",
   "metadata": {},
   "outputs": [],
   "source": []
  }
 ],
 "metadata": {
  "kernelspec": {
   "display_name": "Python 3 (ipykernel)",
   "language": "python",
   "name": "python3"
  },
  "language_info": {
   "codemirror_mode": {
    "name": "ipython",
    "version": 3
   },
   "file_extension": ".py",
   "mimetype": "text/x-python",
   "name": "python",
   "nbconvert_exporter": "python",
   "pygments_lexer": "ipython3",
   "version": "3.11.0"
  }
 },
 "nbformat": 4,
 "nbformat_minor": 5
}
